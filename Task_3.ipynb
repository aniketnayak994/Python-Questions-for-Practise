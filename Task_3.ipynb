{
  "nbformat": 4,
  "nbformat_minor": 0,
  "metadata": {
    "colab": {
      "provenance": []
    },
    "kernelspec": {
      "name": "python3",
      "display_name": "Python 3"
    },
    "language_info": {
      "name": "python"
    }
  },
  "cells": [
    {
      "cell_type": "markdown",
      "source": [
        "## Python Problems - Math"
      ],
      "metadata": {
        "id": "BDYt3uSMcVXC"
      }
    },
    {
      "cell_type": "markdown",
      "source": [
        "These questions are all taken from Hacker Rank, If you want to practise click on the link below.\n",
        "\n",
        "[Hacker Rank Questions](https://www.hackerrank.com/domains/python?filters%5Bsubdomains%5D%5B%5D=py-math)"
      ],
      "metadata": {
        "id": "WoNQnvGKcxjh"
      }
    },
    {
      "cell_type": "markdown",
      "source": [
        "### Polar Co-ordinates"
      ],
      "metadata": {
        "id": "D54m5SIXdCHF"
      }
    },
    {
      "cell_type": "markdown",
      "source": [
        "[Problem statement](https://www.hackerrank.com/domains/python?filters%5Bsubdomains%5D%5B%5D=py-math)"
      ],
      "metadata": {
        "id": "VNFjtOa_d6lq"
      }
    },
    {
      "cell_type": "code",
      "execution_count": null,
      "metadata": {
        "id": "_I00uMvgcSUh"
      },
      "outputs": [],
      "source": [
        "# Enter your code here. Read input from STDIN. Print output to STDOUT\n",
        "\n",
        "import cmath\n",
        "\n",
        "z = complex(input())\n",
        "print(abs(z))\n",
        "print(cmath.phase(z))\n",
        "\n"
      ]
    },
    {
      "cell_type": "markdown",
      "source": [
        "### Find Angle MBC"
      ],
      "metadata": {
        "id": "7kICo3G6eDkS"
      }
    },
    {
      "cell_type": "markdown",
      "source": [
        "[Problem statement](https://www.hackerrank.com/challenges/find-angle/problem?isFullScreen=true)"
      ],
      "metadata": {
        "id": "Fdb6EhH3eXCf"
      }
    },
    {
      "cell_type": "code",
      "source": [
        "# Enter your code here. Read input from STDIN. Print output to STDOUT\n",
        "\n",
        "from math import atan, degrees\n",
        "AB = int(input())\n",
        "BC = int(input())\n",
        "\n",
        "angle_C = atan(AB/BC)\n",
        "print((round(degrees(angle_C))),chr(176),sep='')\n",
        "\n",
        "\n"
      ],
      "metadata": {
        "id": "7EmRQM1meg4B"
      },
      "execution_count": null,
      "outputs": []
    },
    {
      "cell_type": "markdown",
      "source": [
        "### Mod Divmod"
      ],
      "metadata": {
        "id": "Y60vid3GeleA"
      }
    },
    {
      "cell_type": "markdown",
      "source": [
        "[Problem Statement](https://www.hackerrank.com/challenges/python-mod-divmod/problem?isFullScreen=true)"
      ],
      "metadata": {
        "id": "oCwV_gKsephH"
      }
    },
    {
      "cell_type": "code",
      "source": [
        "# Enter your code here. Read input from STDIN. Print output to STDOUT\n",
        "\n",
        "a = int(input())\n",
        "b = int(input())\n",
        "\n",
        "print(a//b)\n",
        "print(a%b)\n",
        "print(divmod(a,b))\n"
      ],
      "metadata": {
        "id": "SQ3qRDikewgI"
      },
      "execution_count": null,
      "outputs": []
    },
    {
      "cell_type": "markdown",
      "source": [
        "### Power - mod Power"
      ],
      "metadata": {
        "id": "S-et6asYe1hF"
      }
    },
    {
      "cell_type": "markdown",
      "source": [
        "[Problem Statement](https://www.hackerrank.com/challenges/python-power-mod-power/problem?isFullScreen=truee)"
      ],
      "metadata": {
        "id": "r_g6nIDbe6Hw"
      }
    },
    {
      "cell_type": "code",
      "source": [
        "a = int(input())\n",
        "b = int(input())\n",
        "m = int(input())\n",
        "\n",
        "print(pow(a,b))\n",
        "\n",
        "print(pow(a,b,m))\n",
        "\n",
        " \n"
      ],
      "metadata": {
        "id": "xXwqJEhDfFbq"
      },
      "execution_count": null,
      "outputs": []
    },
    {
      "cell_type": "markdown",
      "source": [
        "### Integers come in all sizes"
      ],
      "metadata": {
        "id": "ElPhCxnBfLyV"
      }
    },
    {
      "cell_type": "markdown",
      "source": [
        "[Problem Statement](https://www.hackerrank.com/challenges/python-integers-come-in-all-sizes/problem?isFullScreen=true)"
      ],
      "metadata": {
        "id": "ZH_lYjxCfPpt"
      }
    },
    {
      "cell_type": "code",
      "source": [
        "print(((int(input()))**(int(input()))) + ((int(input()))**(int(input()))))"
      ],
      "metadata": {
        "id": "0dZTZu35fZa9"
      },
      "execution_count": null,
      "outputs": []
    },
    {
      "cell_type": "markdown",
      "source": [
        "### Triangle Quest "
      ],
      "metadata": {
        "id": "VFE2IjSmffsg"
      }
    },
    {
      "cell_type": "markdown",
      "source": [
        "[Problem Statement](https://www.hackerrank.com/challenges/python-quest-1/problem?isFullScreen=true)"
      ],
      "metadata": {
        "id": "mrr9UBXJfiaa"
      }
    },
    {
      "cell_type": "code",
      "source": [
        "for i in range(1,int(input())): #More than 2 lines will result in 0 score. Do not leave a blank line also\n",
        "    print(((10 ** i) // 9) * i)\n"
      ],
      "metadata": {
        "id": "04nvvvqffpOj",
        "colab": {
          "base_uri": "https://localhost:8080/"
        },
        "outputId": "a6fde09d-845a-46b4-d718-3dc722f23c1f"
      },
      "execution_count": 1,
      "outputs": [
        {
          "output_type": "stream",
          "name": "stdout",
          "text": [
            "5\n",
            "1\n",
            "22\n",
            "333\n",
            "4444\n"
          ]
        }
      ]
    },
    {
      "cell_type": "markdown",
      "source": [
        "OUTPUT:\n",
        "\n",
        "1\n",
        "\n",
        "22\n",
        "\n",
        "333\n",
        "\n",
        "4444\n",
        "\n",
        "55555"
      ],
      "metadata": {
        "id": "NsAYughPmdkY"
      }
    },
    {
      "cell_type": "markdown",
      "source": [
        "### Triangle Quest 2"
      ],
      "metadata": {
        "id": "T4nLqHTrfsnc"
      }
    },
    {
      "cell_type": "markdown",
      "source": [
        "[Problem Statement](https://www.hackerrank.com/challenges/triangle-quest-2/problem?isFullScreen=true)"
      ],
      "metadata": {
        "id": "eBTE9VFVfvZG"
      }
    },
    {
      "cell_type": "code",
      "source": [
        "\n",
        "\n",
        "for i in range(1,int(input())+1): #More than 2 lines will result in 0 score. Do not leave a blank line also\n",
        "    print((10**i//9)**2)\n",
        "\n",
        "\n"
      ],
      "metadata": {
        "id": "DNKKCE89fsQg",
        "colab": {
          "base_uri": "https://localhost:8080/"
        },
        "outputId": "23eae267-cd1e-401a-fd3d-bbca3d856abc"
      },
      "execution_count": 2,
      "outputs": [
        {
          "output_type": "stream",
          "name": "stdout",
          "text": [
            "5\n",
            "1\n",
            "121\n",
            "12321\n",
            "1234321\n",
            "123454321\n"
          ]
        }
      ]
    },
    {
      "cell_type": "markdown",
      "source": [
        "OUTPUT:\n",
        "\n",
        "1\n",
        "\n",
        "121\n",
        "\n",
        "12321\n",
        "\n",
        "1234321\n",
        "\n",
        "123454321"
      ],
      "metadata": {
        "id": "clDpv_3kmY36"
      }
    }
  ]
}