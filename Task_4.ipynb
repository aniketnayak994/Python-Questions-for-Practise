{
  "nbformat": 4,
  "nbformat_minor": 0,
  "metadata": {
    "colab": {
      "provenance": [],
      "collapsed_sections": [
        "D54m5SIXdCHF",
        "7kICo3G6eDkS",
        "Y60vid3GeleA",
        "S-et6asYe1hF",
        "ElPhCxnBfLyV",
        "VFE2IjSmffsg",
        "zzUaDv7Hf9VJ",
        "fMow6czfgfGW",
        "C5LZfWMFg8S1",
        "b3C1YjxIhMHZ"
      ]
    },
    "kernelspec": {
      "name": "python3",
      "display_name": "Python 3"
    },
    "language_info": {
      "name": "python"
    }
  },
  "cells": [
    {
      "cell_type": "markdown",
      "source": [
        "## Python Problems - Strings"
      ],
      "metadata": {
        "id": "BDYt3uSMcVXC"
      }
    },
    {
      "cell_type": "markdown",
      "source": [
        "These questions are all taken from Hacker Rank, If you want to practise click on the link below.\n",
        "\n",
        "[Hacker Rank Questions](https://www.hackerrank.com/domains/python?filters%5Bsubdomains%5D%5B%5D=py-strings)"
      ],
      "metadata": {
        "id": "WoNQnvGKcxjh"
      }
    },
    {
      "cell_type": "markdown",
      "source": [
        "### Alphabet Rangoli"
      ],
      "metadata": {
        "id": "7BdbdkkzgtVD"
      }
    },
    {
      "cell_type": "markdown",
      "source": [
        "[Problem Statement](https://www.hackerrank.com/challenges/alphabet-rangoli?isFullScreen=true)"
      ],
      "metadata": {
        "id": "jBv5M6gOgywn"
      }
    },
    {
      "cell_type": "code",
      "source": [
        "import string\n",
        "\n",
        "def print_rangoli(size):\n",
        "    letters = string.ascii_lowercase[:size]\n",
        "    width = 4 * size - 3\n",
        "    \n",
        "    for i in range(size-1,0,-1):\n",
        "        line = '-'.join(letters[size - 1: i: -1] + letters[i: size])\n",
        "        print(line.center(width, '-'))\n",
        "    for i in range(size):\n",
        "        line = '-'.join(letters[size - 1: i: -1] + letters[i: size])\n",
        "        print(line.center(width, '-'))\n",
        "\n",
        "if __name__ == '__main__':\n",
        "    n = int(input())\n",
        "    print_rangoli(n)\n"
      ],
      "metadata": {
        "id": "ukNwOJO1g5-d",
        "colab": {
          "base_uri": "https://localhost:8080/"
        },
        "outputId": "d6a2ad9d-b439-4a43-ed2b-1a09399e1a99"
      },
      "execution_count": 4,
      "outputs": [
        {
          "output_type": "stream",
          "name": "stdout",
          "text": [
            "5\n",
            "--------e--------\n",
            "------e-d-e------\n",
            "----e-d-c-d-e----\n",
            "--e-d-c-b-c-d-e--\n",
            "e-d-c-b-a-b-c-d-e\n",
            "--e-d-c-b-c-d-e--\n",
            "----e-d-c-d-e----\n",
            "------e-d-e------\n",
            "--------e--------\n"
          ]
        }
      ]
    },
    {
      "cell_type": "markdown",
      "source": [
        "### Text Alignment"
      ],
      "metadata": {
        "id": "T4nLqHTrfsnc"
      }
    },
    {
      "cell_type": "markdown",
      "source": [
        "[Problem Statement](https://www.hackerrank.com/challenges/text-alignment/problem?isFullScreen=true)"
      ],
      "metadata": {
        "id": "eBTE9VFVfvZG"
      }
    },
    {
      "cell_type": "code",
      "source": [
        "\n",
        "\n",
        "thickness = int(input()) #This must be an odd number\n",
        "c = 'H'\n",
        "\n",
        "#Top Cone\n",
        "for i in range(thickness):\n",
        "    print((c*i).rjust(thickness-1)+c+(c*i).ljust(thickness-1))\n",
        "\n",
        "#Top Pillars\n",
        "for i in range(thickness+1):\n",
        "    print((c*thickness).center(thickness*2)+(c*thickness).center(thickness*6))\n",
        "\n",
        "#Middle Belt\n",
        "for i in range((thickness+1)//2):\n",
        "    print((c*thickness*5).center(thickness*6))    \n",
        "\n",
        "#Bottom Pillars\n",
        "for i in range(thickness+1):\n",
        "    print((c*thickness).center(thickness*2)+(c*thickness).center(thickness*6))    \n",
        "\n",
        "#Bottom Cone\n",
        "for i in range(thickness):\n",
        "    print(((c*(thickness-i-1)).rjust(thickness)+c+(c*(thickness-i-1)).ljust(thickness)).rjust(thickness*6))\n",
        "\n"
      ],
      "metadata": {
        "id": "DNKKCE89fsQg",
        "colab": {
          "base_uri": "https://localhost:8080/"
        },
        "outputId": "136600cb-945f-4043-f547-13aa347e95e5"
      },
      "execution_count": 1,
      "outputs": [
        {
          "output_type": "stream",
          "name": "stdout",
          "text": [
            "5\n",
            "    H    \n",
            "   HHH   \n",
            "  HHHHH  \n",
            " HHHHHHH \n",
            "HHHHHHHHH\n",
            "  HHHHH               HHHHH             \n",
            "  HHHHH               HHHHH             \n",
            "  HHHHH               HHHHH             \n",
            "  HHHHH               HHHHH             \n",
            "  HHHHH               HHHHH             \n",
            "  HHHHH               HHHHH             \n",
            "  HHHHHHHHHHHHHHHHHHHHHHHHH   \n",
            "  HHHHHHHHHHHHHHHHHHHHHHHHH   \n",
            "  HHHHHHHHHHHHHHHHHHHHHHHHH   \n",
            "  HHHHH               HHHHH             \n",
            "  HHHHH               HHHHH             \n",
            "  HHHHH               HHHHH             \n",
            "  HHHHH               HHHHH             \n",
            "  HHHHH               HHHHH             \n",
            "  HHHHH               HHHHH             \n",
            "                    HHHHHHHHH \n",
            "                     HHHHHHH  \n",
            "                      HHHHH   \n",
            "                       HHH    \n",
            "                        H     \n"
          ]
        }
      ]
    },
    {
      "cell_type": "markdown",
      "source": [
        "### Designer Door-mat"
      ],
      "metadata": {
        "id": "cCC0DrkagO4m"
      }
    },
    {
      "cell_type": "markdown",
      "source": [
        "[Problem Statement](https://www.hackerrank.com/challenges/designer-door-mat/problem?isFullScreen=true)"
      ],
      "metadata": {
        "id": "s7SkyKgIgWZX"
      }
    },
    {
      "cell_type": "code",
      "source": [
        "# Enter your code here. Read input from STDIN. Print output to STDOUT\n",
        "\n",
        "\n",
        "N, M = map(int, input().split())\n",
        "    \n",
        "s = ''\n",
        "\n",
        "for i in range(1, N, 2):\n",
        "\n",
        "    s = s + (i * '.|.').center(M, \"-\") + \"\\n\"\n",
        "\n",
        "s = s + 'WELCOME'.center(M, \"-\") + \"\\n\"\n",
        "\n",
        "for i in range(N - 2, 0, -2):\n",
        "    s = s + (i * '.|.').center(M, \"-\") + \"\\n\"\n",
        "        \n",
        "print(s)\n",
        "\n",
        "\n"
      ],
      "metadata": {
        "id": "Kr404BSBgOa6",
        "colab": {
          "base_uri": "https://localhost:8080/"
        },
        "outputId": "815aa8ed-51d9-4fc1-d666-b4e82fb12b43"
      },
      "execution_count": 3,
      "outputs": [
        {
          "output_type": "stream",
          "name": "stdout",
          "text": [
            "11 33\n",
            "---------------.|.---------------\n",
            "------------.|..|..|.------------\n",
            "---------.|..|..|..|..|.---------\n",
            "------.|..|..|..|..|..|..|.------\n",
            "---.|..|..|..|..|..|..|..|..|.---\n",
            "-------------WELCOME-------------\n",
            "---.|..|..|..|..|..|..|..|..|.---\n",
            "------.|..|..|..|..|..|..|.------\n",
            "---------.|..|..|..|..|.---------\n",
            "------------.|..|..|.------------\n",
            "---------------.|.---------------\n",
            "\n"
          ]
        }
      ]
    },
    {
      "cell_type": "markdown",
      "source": [
        "### Swap Case"
      ],
      "metadata": {
        "id": "D54m5SIXdCHF"
      }
    },
    {
      "cell_type": "markdown",
      "source": [
        "[Problem statement](https://www.hackerrank.com/challenges/swap-case/problem?isFullScreen=true)"
      ],
      "metadata": {
        "id": "VNFjtOa_d6lq"
      }
    },
    {
      "cell_type": "code",
      "execution_count": null,
      "metadata": {
        "id": "_I00uMvgcSUh"
      },
      "outputs": [],
      "source": [
        "def swap_case(s):\n",
        "    result = \"\"\n",
        "    for c in s:\n",
        "        if c.isupper():\n",
        "            result += c.lower()\n",
        "        elif c.islower():\n",
        "            result += c.upper()\n",
        "        else:\n",
        "            result += c\n",
        "    return result\n",
        "\n"
      ]
    },
    {
      "cell_type": "markdown",
      "source": [
        "### String Split and Join"
      ],
      "metadata": {
        "id": "7kICo3G6eDkS"
      }
    },
    {
      "cell_type": "markdown",
      "source": [
        "[Problem statement](https://www.hackerrank.com/challenges/python-string-split-and-join/problem?isFullScreen=true)"
      ],
      "metadata": {
        "id": "Fdb6EhH3eXCf"
      }
    },
    {
      "cell_type": "code",
      "source": [
        "def split_and_join(line):\n",
        "    # write your code here\n",
        "    return '-'.join(line.split())"
      ],
      "metadata": {
        "id": "7EmRQM1meg4B"
      },
      "execution_count": null,
      "outputs": []
    },
    {
      "cell_type": "markdown",
      "source": [
        "### What's Your Name?"
      ],
      "metadata": {
        "id": "Y60vid3GeleA"
      }
    },
    {
      "cell_type": "markdown",
      "source": [
        "[Problem Statement](https://www.hackerrank.com/challenges/whats-your-name/problem?isFullScreen=truehttps://www.hackerrank.com/challenges/whats-your-name/problem?isFullScreen=true)"
      ],
      "metadata": {
        "id": "oCwV_gKsephH"
      }
    },
    {
      "cell_type": "code",
      "source": [
        "def print_full_name(first, last):\n",
        "    # Write your code here\n",
        "    print(\"Hello {1} {0}! You just delved into python.\".format(last,first))"
      ],
      "metadata": {
        "id": "SQ3qRDikewgI"
      },
      "execution_count": null,
      "outputs": []
    },
    {
      "cell_type": "markdown",
      "source": [
        "### Mutations"
      ],
      "metadata": {
        "id": "S-et6asYe1hF"
      }
    },
    {
      "cell_type": "markdown",
      "source": [
        "[Problem Statement](https://www.hackerrank.com/challenges/python-mutations/problem?isFullScreen=true)"
      ],
      "metadata": {
        "id": "r_g6nIDbe6Hw"
      }
    },
    {
      "cell_type": "code",
      "source": [
        "def mutate_string(string, position, character):\n",
        "    l = list(string)\n",
        "    l[position] = character\n",
        "    return ''.join(l)\n",
        " \n"
      ],
      "metadata": {
        "id": "xXwqJEhDfFbq"
      },
      "execution_count": null,
      "outputs": []
    },
    {
      "cell_type": "markdown",
      "source": [
        "### Find a String"
      ],
      "metadata": {
        "id": "ElPhCxnBfLyV"
      }
    },
    {
      "cell_type": "markdown",
      "source": [
        "[Problem Statement](https://www.hackerrank.com/challenges/find-a-string/problem?isFullScreen=true)"
      ],
      "metadata": {
        "id": "ZH_lYjxCfPpt"
      }
    },
    {
      "cell_type": "code",
      "source": [
        "def count_substring(string, sub_string):\n",
        "    n = 0\n",
        "    for i in range(len(string)):\n",
        "        if string[i: i+len(sub_string)] == sub_string:\n",
        "            n+= 1\n",
        "    return n\n"
      ],
      "metadata": {
        "id": "0dZTZu35fZa9"
      },
      "execution_count": null,
      "outputs": []
    },
    {
      "cell_type": "markdown",
      "source": [
        "### String Validators"
      ],
      "metadata": {
        "id": "VFE2IjSmffsg"
      }
    },
    {
      "cell_type": "markdown",
      "source": [
        "[Problem Statement](https://www.hackerrank.com/challenges/string-validators/problem?isFullScreen=true)"
      ],
      "metadata": {
        "id": "mrr9UBXJfiaa"
      }
    },
    {
      "cell_type": "code",
      "source": [
        "if __name__ == '__main__':\n",
        "    s = input()\n",
        "    print(any(i.isalnum() for i in s))\n",
        "    print(any(i.isalpha() for i in s))\n",
        "    print(any(i.isdigit() for i in s))\n",
        "    print(any(i.islower() for i in s))\n",
        "    print(any(i.isupper() for i in s))\n",
        "    \n"
      ],
      "metadata": {
        "id": "04nvvvqffpOj"
      },
      "execution_count": null,
      "outputs": []
    },
    {
      "cell_type": "markdown",
      "source": [
        "### Text Wrap"
      ],
      "metadata": {
        "id": "zzUaDv7Hf9VJ"
      }
    },
    {
      "cell_type": "markdown",
      "source": [
        "[Problem Statement](https://www.hackerrank.com/challenges/text-wrap/problem?isFullScreen=true)"
      ],
      "metadata": {
        "id": "fwxOu3uYgGR7"
      }
    },
    {
      "cell_type": "code",
      "source": [
        "import textwrap\n",
        "def wrap(string, max_width):\n",
        "    return textwrap.fill(string,max_width)"
      ],
      "metadata": {
        "id": "Fw2b8yhcgF2x"
      },
      "execution_count": null,
      "outputs": []
    },
    {
      "cell_type": "markdown",
      "source": [
        "### String Formatting"
      ],
      "metadata": {
        "id": "fMow6czfgfGW"
      }
    },
    {
      "cell_type": "markdown",
      "source": [
        "[Problem Statement](https://www.hackerrank.com/challenges/python-string-formatting/problem?isFullScreen=true)"
      ],
      "metadata": {
        "id": "RbLHV7sogmAu"
      }
    },
    {
      "cell_type": "code",
      "source": [
        "def print_formatted(number):\n",
        "    width = len(format(number, 'b'))\n",
        "    \n",
        "    for i in range(1, number + 1, 1):\n",
        "        dec = str(i).rjust(width,' ')\n",
        "        oct = format(i, \"o\").rjust(width, ' ')\n",
        "        hex = format(i, \"X\").rjust(width, ' ')\n",
        "        bin = format(i, 'b').rjust(width, ' ')\n",
        "        \n",
        "        print(f\"{dec} {oct} {hex} {bin}\")\n",
        "    \n",
        "\n",
        "\n"
      ],
      "metadata": {
        "id": "VSdz6JiOgqeT"
      },
      "execution_count": null,
      "outputs": []
    },
    {
      "cell_type": "markdown",
      "source": [
        "### Capitalize"
      ],
      "metadata": {
        "id": "C5LZfWMFg8S1"
      }
    },
    {
      "cell_type": "markdown",
      "source": [
        "[Problem Statement](https://www.hackerrank.com/challenges/capitalize/problem?isFullScreen=true)"
      ],
      "metadata": {
        "id": "lRwwhteehB61"
      }
    },
    {
      "cell_type": "code",
      "source": [
        "\n",
        "def solve(s): \n",
        "    k=s.strip().split(\" \") \n",
        "    print(k)\n",
        "    l=[] \n",
        "    for i in k: \n",
        "        if i.isalpha() or i.isalnum(): \n",
        "            j=i[0].upper() \n",
        "            i=j+i[1:] \n",
        "            l.append(i) \n",
        "        else: \n",
        "            l.append(i)\n",
        "\n",
        "    k=\" \".join(l)\n",
        "    return k\n",
        "\n",
        "\n"
      ],
      "metadata": {
        "id": "fBTOVuXThBZj"
      },
      "execution_count": null,
      "outputs": []
    },
    {
      "cell_type": "markdown",
      "source": [
        "### Merge the tools"
      ],
      "metadata": {
        "id": "b3C1YjxIhMHZ"
      }
    },
    {
      "cell_type": "markdown",
      "source": [
        "[Problem Statement](https://www.hackerrank.com/challenges/merge-the-tools/problem?isFullScreen=true)"
      ],
      "metadata": {
        "id": "AvCwXDBghQ4Y"
      }
    },
    {
      "cell_type": "code",
      "source": [
        "def merge_the_tools(string, k):\n",
        "    # your code goes here\n",
        "    #print(*(''.join(set(string[i: i + k])) for i in range(0, len(string), k)), sep='\\n')\n",
        "    print(*(''.join(dict.fromkeys(string[i: i + k])) for i in range(0, len(string), k)), sep='\\n')\n",
        "\n"
      ],
      "metadata": {
        "id": "job1XhXMhXfe"
      },
      "execution_count": null,
      "outputs": []
    }
  ]
}