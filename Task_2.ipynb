{
  "nbformat": 4,
  "nbformat_minor": 0,
  "metadata": {
    "colab": {
      "provenance": []
    },
    "kernelspec": {
      "name": "python3",
      "display_name": "Python 3"
    },
    "language_info": {
      "name": "python"
    }
  },
  "cells": [
    {
      "cell_type": "markdown",
      "source": [
        "## Python Problems - Data Types"
      ],
      "metadata": {
        "id": "BDYt3uSMcVXC"
      }
    },
    {
      "cell_type": "markdown",
      "source": [
        "These questions are all taken from Hacker Rank, If you want to practise click on the link below.\n",
        "\n",
        "[Hacker Rank Questions](https://www.hackerrank.com/domains/python?filters%5Bsubdomains%5D%5B%5D=py-basic-data-types&filters%5Bsubdomains%5D%5B%5D=py-sets)"
      ],
      "metadata": {
        "id": "WoNQnvGKcxjh"
      }
    },
    {
      "cell_type": "markdown",
      "source": [
        "### List Comprehension"
      ],
      "metadata": {
        "id": "D54m5SIXdCHF"
      }
    },
    {
      "cell_type": "markdown",
      "source": [
        "You are given three integers x,y and z representing the dimensions of a cuboid along with an integer n. Print a list of all possible coordinates given by (i,j,k) on a 3D grid where the sum of  is not equal to n."
      ],
      "metadata": {
        "id": "bfa3uqDTdG-E"
      }
    },
    {
      "cell_type": "markdown",
      "source": [
        "[Problem statement](https://https://www.hackerrank.com/challenges/list-comprehensions/problem?isFullScreen=true)"
      ],
      "metadata": {
        "id": "VNFjtOa_d6lq"
      }
    },
    {
      "cell_type": "code",
      "execution_count": null,
      "metadata": {
        "id": "_I00uMvgcSUh"
      },
      "outputs": [],
      "source": [
        "if __name__ == '__main__':\n",
        "    x = int(input())\n",
        "    y = int(input())\n",
        "    z = int(input())\n",
        "    n = int(input())\n",
        "    a =[[i, j, k] for i in range(x+1) for j in range(y+1) for k in range(z+1) if (i + j + k )!= n]\n",
        "    print(a)\n"
      ]
    },
    {
      "cell_type": "markdown",
      "source": [
        "### Find the Runner up Score"
      ],
      "metadata": {
        "id": "7kICo3G6eDkS"
      }
    },
    {
      "cell_type": "markdown",
      "source": [
        "[Problem statement](https://www.hackerrank.com/challenges/find-second-maximum-number-in-a-list/problem?isFullScreen=true)"
      ],
      "metadata": {
        "id": "Fdb6EhH3eXCf"
      }
    },
    {
      "cell_type": "code",
      "source": [
        "if __name__ == '__main__':\n",
        "    n = int(input())\n",
        "    arr = list(map(int, input().split()))\n",
        "    arr.sort()\n",
        "    maxn = arr[-1]\n",
        "\n",
        "    for i in range (len(arr)-1,-1,-1): \n",
        "        if(arr[i] < maxn): \n",
        "            print (arr[i]) \n",
        "            break\n",
        "        \n"
      ],
      "metadata": {
        "id": "7EmRQM1meg4B"
      },
      "execution_count": null,
      "outputs": []
    },
    {
      "cell_type": "markdown",
      "source": [
        "### Nested Lists"
      ],
      "metadata": {
        "id": "Y60vid3GeleA"
      }
    },
    {
      "cell_type": "markdown",
      "source": [
        "[Problem Statement](https://www.hackerrank.com/challenges/nested-list/problem?isFullScreen=true)"
      ],
      "metadata": {
        "id": "oCwV_gKsephH"
      }
    },
    {
      "cell_type": "code",
      "source": [
        "if __name__ == '__main__':\n",
        "    records = []\n",
        "    all_score = []\n",
        "    Second_Low_name = []\n",
        "    for i in range(int(input())):\n",
        "        name = input()\n",
        "        score = float(input())\n",
        "        records.append([name,score])\n",
        "        all_score.append(score)\n",
        "    second_last_s = (list(sorted(set(all_score)))[1])\n",
        "    \n",
        "    for j in range(len(records)):\n",
        "        if records[j][1] == second_last_s:\n",
        "            Second_Low_name.append(records[j][0])\n",
        "            \n",
        "    \n",
        "    Second_Low_name.sort()\n",
        "    for students in Second_Low_name:\n",
        "        print(students)\n",
        "        \n",
        "        \n"
      ],
      "metadata": {
        "id": "SQ3qRDikewgI"
      },
      "execution_count": null,
      "outputs": []
    },
    {
      "cell_type": "markdown",
      "source": [
        "### Find the percentage"
      ],
      "metadata": {
        "id": "S-et6asYe1hF"
      }
    },
    {
      "cell_type": "markdown",
      "source": [
        "[Problem Statement](https://www.hackerrank.com/challenges/finding-the-percentage/problem?isFullScreen=true)"
      ],
      "metadata": {
        "id": "r_g6nIDbe6Hw"
      }
    },
    {
      "cell_type": "code",
      "source": [
        "if __name__ == '__main__':\n",
        "    n = int(input())\n",
        "    student_marks = {}\n",
        "    for n in range(n):\n",
        "        name, *line = input().split()\n",
        "        scores = list(map(float, line))\n",
        "        student_marks[name] = scores\n",
        "    query_name = input()\n",
        "    \n",
        "    all_num = student_marks[query_name]\n",
        "    avg = sum(all_num)/len(student_marks[query_name])\n",
        "    print(\"%.2f\" %avg)\n",
        " \n"
      ],
      "metadata": {
        "id": "xXwqJEhDfFbq"
      },
      "execution_count": null,
      "outputs": []
    },
    {
      "cell_type": "markdown",
      "source": [
        "### Lists"
      ],
      "metadata": {
        "id": "ElPhCxnBfLyV"
      }
    },
    {
      "cell_type": "markdown",
      "source": [
        "[Problem Statement](https://www.hackerrank.com/challenges/python-lists/problem?isFullScreen=true)"
      ],
      "metadata": {
        "id": "ZH_lYjxCfPpt"
      }
    },
    {
      "cell_type": "code",
      "source": [
        "if __name__ == '__main__':\n",
        "    N = int(input())\n",
        "    lists =[]\n",
        "    commands_list = {\n",
        "        \"insert\": lambda x: lists.insert(x[0], x[1]),\n",
        "        \"print\": lambda x: print(lists),\n",
        "        \"remove\": lambda x: lists.remove(x[0]),\n",
        "        \"append\": lambda x: lists.append(x[0]),\n",
        "        \"sort\": lambda x: lists.sort(),\n",
        "        \"pop\": lambda x: lists.pop(),\n",
        "        \"reverse\": lambda x: lists.reverse(),\n",
        "    }\n",
        "\n",
        "    for _ in range(N):\n",
        "        string, *el = input().split()\n",
        "        commands_list[string](list(map(int, el)))\n",
        "       \n",
        "        \n"
      ],
      "metadata": {
        "id": "0dZTZu35fZa9"
      },
      "execution_count": null,
      "outputs": []
    },
    {
      "cell_type": "markdown",
      "source": [
        "### Tuples"
      ],
      "metadata": {
        "id": "VFE2IjSmffsg"
      }
    },
    {
      "cell_type": "markdown",
      "source": [
        "[Problem Statement](https://www.hackerrank.com/challenges/python-tuples/problem?isFullScreen=true)"
      ],
      "metadata": {
        "id": "mrr9UBXJfiaa"
      }
    },
    {
      "cell_type": "code",
      "source": [
        "if __name__ == '__main__':\n",
        "    n = int(input())\n",
        "    integer_list = map(int, input().split())\n",
        "    \n",
        "    int_tup = tuple(integer_list)\n",
        "    print(hash(int_tup))\n"
      ],
      "metadata": {
        "id": "04nvvvqffpOj"
      },
      "execution_count": null,
      "outputs": []
    },
    {
      "cell_type": "markdown",
      "source": [
        "### Introduction to sets"
      ],
      "metadata": {
        "id": "T4nLqHTrfsnc"
      }
    },
    {
      "cell_type": "markdown",
      "source": [
        "[Problem Statement](https://www.hackerrank.com/challenges/py-introduction-to-sets/problem?isFullScreen=true)"
      ],
      "metadata": {
        "id": "eBTE9VFVfvZG"
      }
    },
    {
      "cell_type": "code",
      "source": [
        "def average(array):\n",
        "    # your code goes here\n",
        "    avg = sum(set(array))/len(set(array))\n",
        "    return avg\n",
        "\n"
      ],
      "metadata": {
        "id": "DNKKCE89fsQg"
      },
      "execution_count": null,
      "outputs": []
    },
    {
      "cell_type": "markdown",
      "source": [
        "### No Idea!"
      ],
      "metadata": {
        "id": "zzUaDv7Hf9VJ"
      }
    },
    {
      "cell_type": "markdown",
      "source": [
        "[Problem Statement](https://www.hackerrank.com/challenges/no-idea/problem?isFullScreen=true)"
      ],
      "metadata": {
        "id": "fwxOu3uYgGR7"
      }
    },
    {
      "cell_type": "code",
      "source": [
        "\n",
        "n,m = list(map(int, input().split()))\n",
        "arr, a, b = list(map(int, input().split())), set(map(int, input().split())), set(map(int, input().split()))\n",
        "\n",
        "x = set(arr) & a \n",
        "y = set(arr) & b\n",
        "score = 0\n",
        "for i in arr:\n",
        "    if i in x: \n",
        "        score += 1\n",
        "    elif i in y: \n",
        "        score -= 1\n",
        "\n",
        "print(score)\n"
      ],
      "metadata": {
        "id": "Fw2b8yhcgF2x"
      },
      "execution_count": null,
      "outputs": []
    },
    {
      "cell_type": "markdown",
      "source": [
        "### Symmetric Difference"
      ],
      "metadata": {
        "id": "cCC0DrkagO4m"
      }
    },
    {
      "cell_type": "markdown",
      "source": [
        "[Problem Statement](https://www.hackerrank.com/challenges/symmetric-difference/problem?isFullScreen=true)"
      ],
      "metadata": {
        "id": "s7SkyKgIgWZX"
      }
    },
    {
      "cell_type": "code",
      "source": [
        "# Enter your code here. Read input from STDIN. Print output to STDOUT\n",
        "input() \n",
        "a = set(map(int, input().split())) \n",
        "input() \n",
        "b = set(map(int, input().split())) \n",
        "c = sorted(a.symmetric_difference(b)) \n",
        "for i in c: \n",
        "    print(i)\n"
      ],
      "metadata": {
        "id": "Kr404BSBgOa6"
      },
      "execution_count": null,
      "outputs": []
    },
    {
      "cell_type": "markdown",
      "source": [
        "### Set .add()"
      ],
      "metadata": {
        "id": "fMow6czfgfGW"
      }
    },
    {
      "cell_type": "markdown",
      "source": [
        "[Problem Statement](https://www.hackerrank.com/challenges/py-set-add/problem?isFullScreen=true)"
      ],
      "metadata": {
        "id": "RbLHV7sogmAu"
      }
    },
    {
      "cell_type": "code",
      "source": [
        "# Enter your code here. Read input from STDIN. Print output to STDOUT\n",
        "\n",
        "number = int(input())\n",
        "lst = []\n",
        "for i in range(number):\n",
        "    enter = input()\n",
        "    lst.append(enter)\n",
        "    \n",
        "result = len(set(lst))\n",
        "\n",
        "print(result)\n"
      ],
      "metadata": {
        "id": "VSdz6JiOgqeT"
      },
      "execution_count": null,
      "outputs": []
    },
    {
      "cell_type": "markdown",
      "source": [
        "### Set Union Operation"
      ],
      "metadata": {
        "id": "7BdbdkkzgtVD"
      }
    },
    {
      "cell_type": "markdown",
      "source": [
        "[Problem Statement](https://www.hackerrank.com/challenges/py-set-union/problem?isFullScreen=true)"
      ],
      "metadata": {
        "id": "jBv5M6gOgywn"
      }
    },
    {
      "cell_type": "code",
      "source": [
        "# Enter your code here. Read input from STDIN. Print output to STDOUT\n",
        "\n",
        "n1 = int(input())\n",
        "a = set(map(int,input().split()))\n",
        "n2 = int(input())\n",
        "b = set(map(int,input().split()))\n",
        "\n",
        "print(len(a.union(b)))\n"
      ],
      "metadata": {
        "id": "ukNwOJO1g5-d"
      },
      "execution_count": null,
      "outputs": []
    },
    {
      "cell_type": "markdown",
      "source": [
        "### Set Intersection"
      ],
      "metadata": {
        "id": "C5LZfWMFg8S1"
      }
    },
    {
      "cell_type": "markdown",
      "source": [
        "[Problem Statement](https://www.hackerrank.com/challenges/py-set-intersection-operation/problem?isFullScreen=true)"
      ],
      "metadata": {
        "id": "lRwwhteehB61"
      }
    },
    {
      "cell_type": "code",
      "source": [
        "# Enter your code here. Read input from STDIN. Print output to STDOUT\n",
        "\n",
        "n1 = int(input())\n",
        "a = set(map(int,input().split()))\n",
        "n2 = int(input())\n",
        "b = set(map(int,input().split()))\n",
        "print(len(a.intersection(b)))\n"
      ],
      "metadata": {
        "id": "fBTOVuXThBZj"
      },
      "execution_count": null,
      "outputs": []
    },
    {
      "cell_type": "markdown",
      "source": [
        "### Set Difference"
      ],
      "metadata": {
        "id": "b3C1YjxIhMHZ"
      }
    },
    {
      "cell_type": "markdown",
      "source": [
        "[Problem Statement](https://www.hackerrank.com/challenges/py-set-difference-operation/problem?isFullScreen=true)"
      ],
      "metadata": {
        "id": "AvCwXDBghQ4Y"
      }
    },
    {
      "cell_type": "code",
      "source": [
        "# Enter your code here. Read input from STDIN. Print output to STDOUT\n",
        "\n",
        "n1 = int(input())\n",
        "a = set(map(int,input().split()))\n",
        "n2 = int(input())\n",
        "b = set(map(int,input().split()))\n",
        "print(len(a.difference(b)))\n"
      ],
      "metadata": {
        "id": "job1XhXMhXfe"
      },
      "execution_count": null,
      "outputs": []
    },
    {
      "cell_type": "markdown",
      "source": [
        "### Set Symmetric_difference() Operation"
      ],
      "metadata": {
        "id": "krEWn_GThafo"
      }
    },
    {
      "cell_type": "markdown",
      "source": [
        "[Problem Statement](https://www.hackerrank.com/challenges/py-set-symmetric-difference-operation/problem?isFullScreen=true)"
      ],
      "metadata": {
        "id": "TjaBsPLNhkle"
      }
    },
    {
      "cell_type": "code",
      "source": [
        "# Enter your code here. Read input from STDIN. Print output to STDOUT\n",
        "\n",
        "n1 = int(input())\n",
        "a = set(map(int,input().split()))\n",
        "n2 = int(input())\n",
        "b = set(map(int,input().split()))\n",
        "print(len(a.symmetric_difference(b)))\n"
      ],
      "metadata": {
        "id": "vMErqmGHhquS"
      },
      "execution_count": null,
      "outputs": []
    },
    {
      "cell_type": "markdown",
      "source": [
        "### Set Mutation"
      ],
      "metadata": {
        "id": "btAvdw-4hwnC"
      }
    },
    {
      "cell_type": "markdown",
      "source": [
        "[Problem Statement](https://www.hackerrank.com/challenges/py-set-mutations/problem?isFullScreen=true)"
      ],
      "metadata": {
        "id": "C9CCucUih049"
      }
    },
    {
      "cell_type": "code",
      "source": [
        "# Enter your code here. Read input from STDIN. Print output to STDOUT\n",
        "\n",
        "input()\n",
        "a = set(map(int, input().split()))\n",
        "\n",
        "for _ in range(int(input())):\n",
        "    name, *_ = input().split()\n",
        "    getattr(a, name)(set(map(int, input().split())))\n",
        "\n",
        "print(sum(a))\n"
      ],
      "metadata": {
        "id": "IWsI1Z4ShwIW"
      },
      "execution_count": null,
      "outputs": []
    },
    {
      "cell_type": "markdown",
      "source": [
        "### The Captain's Room"
      ],
      "metadata": {
        "id": "l7Dk45Pdh_yr"
      }
    },
    {
      "cell_type": "markdown",
      "source": [
        "[Problem Statement](https://www.hackerrank.com/challenges/py-the-captains-room/problem?isFullScreen=true)"
      ],
      "metadata": {
        "id": "-zaa30iziGF6"
      }
    },
    {
      "cell_type": "code",
      "source": [
        "# Enter your code here. Read input from STDIN. Print output to STDOUT\n",
        "k=int(input())\n",
        "\n",
        "from collections import Counter\n",
        "\n",
        "t=[i for i,j in Counter(input().split()).items() if j!=k]\n",
        "\n",
        "print(t[0])\n",
        "\n"
      ],
      "metadata": {
        "id": "cmeKVZ3iiN2v"
      },
      "execution_count": null,
      "outputs": []
    },
    {
      "cell_type": "markdown",
      "source": [
        "### Check Subset"
      ],
      "metadata": {
        "id": "beGUQLEWiR9Z"
      }
    },
    {
      "cell_type": "markdown",
      "source": [
        "[Problem Statement](https://www.hackerrank.com/challenges/py-check-subset/problem?isFullScreen=true)"
      ],
      "metadata": {
        "id": "ePN7wlJdiWrx"
      }
    },
    {
      "cell_type": "code",
      "source": [
        "# Enter your code here. Read input from STDIN. Print output to STDOUT\n",
        "\n",
        "for test_case in range(int(input())):\n",
        "\n",
        "    _, a = input(), set(input().split())\n",
        "    _, b = input(), set(input().split())\n",
        "    print(a.issubset(b))\n"
      ],
      "metadata": {
        "id": "hJlJfv_OifSC"
      },
      "execution_count": null,
      "outputs": []
    },
    {
      "cell_type": "markdown",
      "source": [
        "### Check Strict Superset"
      ],
      "metadata": {
        "id": "icSaIpr-ijE8"
      }
    },
    {
      "cell_type": "markdown",
      "source": [
        "[Problem Statement](https://www.hackerrank.com/challenges/py-check-strict-superset/problem?isFullScreen=true)"
      ],
      "metadata": {
        "id": "UFlv4qaIitj-"
      }
    },
    {
      "cell_type": "code",
      "source": [
        "# Enter your code here. Read input from STDIN. Print output to STDOUT\n",
        "a = set(map(int, input().split()))\n",
        "result = True\n",
        "for _ in range(int(input())):\n",
        "    if a.issuperset(set(map(int, input().split()))) is not True:\n",
        "        result = False\n",
        "        break\n",
        "print(result)\n"
      ],
      "metadata": {
        "id": "oXOiekRgioua"
      },
      "execution_count": null,
      "outputs": []
    }
  ]
}