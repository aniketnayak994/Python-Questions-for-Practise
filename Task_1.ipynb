{
  "nbformat": 4,
  "nbformat_minor": 0,
  "metadata": {
    "colab": {
      "provenance": []
    },
    "kernelspec": {
      "name": "python3",
      "display_name": "Python 3"
    },
    "language_info": {
      "name": "python"
    }
  },
  "cells": [
    {
      "cell_type": "markdown",
      "source": [
        "## Python Problems"
      ],
      "metadata": {
        "id": "MndEjrVAe2E2"
      }
    },
    {
      "cell_type": "markdown",
      "source": [
        "These questions are all taken from Hacker Rank, If you want to practise click on the link below.\n",
        "\n",
        "[Hacker Rank Questions](https://www.hackerrank.com/domains/python?filters%5Bsubdomains%5D%5B%5D=py-introduction)"
      ],
      "metadata": {
        "id": "lbfL7cc_e9D6"
      }
    },
    {
      "cell_type": "code",
      "execution_count": null,
      "metadata": {
        "id": "dkT0GFGaW61p"
      },
      "outputs": [],
      "source": [
        "import numpy as np\n",
        "import matplotlib.pyplot as plt\n",
        "import plotly\n",
        "import pandas as pd\n",
        "import math\n"
      ]
    },
    {
      "cell_type": "markdown",
      "source": [
        "### Task 1 : Print"
      ],
      "metadata": {
        "id": "g8x2Tm-Wf7iN"
      }
    },
    {
      "cell_type": "markdown",
      "source": [
        "\n",
        "\n",
        "Here is a sample line of code that can be executed in Python:\n",
        "\n",
        "print(\"Hello, World!\")"
      ],
      "metadata": {
        "id": "wZNGIi7KXu7Q"
      }
    },
    {
      "cell_type": "code",
      "source": [
        "print(\"Hello, World!\")"
      ],
      "metadata": {
        "colab": {
          "base_uri": "https://localhost:8080/"
        },
        "id": "Aalwa34yXuQ0",
        "outputId": "d69ff3dc-d241-4dce-94e6-50f39e011af7"
      },
      "execution_count": null,
      "outputs": [
        {
          "output_type": "stream",
          "name": "stdout",
          "text": [
            "Hello, World!\n"
          ]
        }
      ]
    },
    {
      "cell_type": "markdown",
      "source": [
        "### Task 2: If/else"
      ],
      "metadata": {
        "id": "h2S8dFETgHVd"
      }
    },
    {
      "cell_type": "markdown",
      "source": [
        "Given an integer, , perform the following conditional actions:\n",
        "\n",
        "If n is odd, print Weird\n",
        "\n",
        "If n is even and in the inclusive range of 2 to 5, print Not Weird\n",
        "\n",
        "If n is even and in the inclusive range of 6 to 20, print Weird\n",
        "\n",
        "If n is even and greater than 20, print Not Weird\n",
        "\n",
        "Input Format\n",
        "\n",
        "A single line containing a positive integer, n.\n",
        "\n",
        "Output Format\n",
        "\n",
        "Print Weird if the number is weird. Otherwise, print Not Weird."
      ],
      "metadata": {
        "id": "gvFPHvGQYSuf"
      }
    },
    {
      "cell_type": "code",
      "source": [
        "import math\n",
        "import os\n",
        "import random\n",
        "import re\n",
        "import sys\n",
        "\n",
        "\n",
        "\n",
        "if __name__ == '__main__':\n",
        "    n = int(input().strip())\n",
        "\n",
        "if (n%2 != 1) and (n >=2) and (n<=5):\n",
        "    print('Not Weird')\n",
        "elif (n%2 != 1) and (n >=6) and (n<=20):\n",
        "    print('Weird')\n",
        "elif (n%2 != 1) and (n>20):\n",
        "    print('Not Weird')    \n",
        "else:\n",
        "    print('Weird')"
      ],
      "metadata": {
        "colab": {
          "base_uri": "https://localhost:8080/"
        },
        "id": "jCQ1g5REYjkl",
        "outputId": "3a2ac296-b21a-48c9-ba5b-caddf2988cc1"
      },
      "execution_count": null,
      "outputs": [
        {
          "output_type": "stream",
          "name": "stdout",
          "text": [
            "5\n",
            "Weird\n"
          ]
        }
      ]
    },
    {
      "cell_type": "markdown",
      "source": [
        "### Task 3 : Arithmetic Operators"
      ],
      "metadata": {
        "id": "VwBO31UcZg7a"
      }
    },
    {
      "cell_type": "markdown",
      "source": [
        "The provided code stub reads two integers from STDIN, a and b. \n",
        "\n",
        "\n",
        "---\n",
        "\n",
        "\n",
        "\n",
        "Add code to print three lines where:\n",
        "\n",
        "The first line contains the sum of the two numbers.\n",
        "\n",
        "The second line contains the difference of the two numbers (first - second).\n",
        "\n",
        "The third line contains the product of the two numbers."
      ],
      "metadata": {
        "id": "l6JcdIrcgZhO"
      }
    },
    {
      "cell_type": "code",
      "source": [
        "if __name__ == '__main__':\n",
        "    a = int(input())\n",
        "    b = int(input())\n",
        "    print('Addition: ',a+b)\n",
        "    print('Subtraction: ',a-b)\n",
        "    print('Product: ',a*b)"
      ],
      "metadata": {
        "colab": {
          "base_uri": "https://localhost:8080/"
        },
        "id": "cKHVHO0FaPFw",
        "outputId": "5d2feb90-a0d5-4027-d04a-d3de7565fcbe"
      },
      "execution_count": null,
      "outputs": [
        {
          "output_type": "stream",
          "name": "stdout",
          "text": [
            "3\n",
            "5\n",
            "Addition:  8\n",
            "Subtraction:  -2\n",
            "Product:  15\n"
          ]
        }
      ]
    },
    {
      "cell_type": "markdown",
      "source": [
        "### Task 4 : Division\n",
        "\n",
        "\n"
      ],
      "metadata": {
        "id": "l7qnZ4r_aqZp"
      }
    },
    {
      "cell_type": "markdown",
      "source": [
        "\n",
        "The provided code stub reads two integers,  and , from STDIN.\n",
        "\n",
        "Add logic to print two lines. The first line should contain the result of integer division, a//b . The second line should contain the result of float division, a/b .\n",
        "\n",
        "No rounding or formatting is necessary."
      ],
      "metadata": {
        "id": "08PT9QBuglY_"
      }
    },
    {
      "cell_type": "code",
      "source": [
        "if __name__ == '__main__':\n",
        "    a = int(input())\n",
        "    b = int(input())\n",
        "    \n",
        "    print(a//b)\n",
        "    print(a/b)"
      ],
      "metadata": {
        "colab": {
          "base_uri": "https://localhost:8080/"
        },
        "id": "IKDuhHG5befS",
        "outputId": "02a63ce7-2509-4d7c-b0f6-578b09691565"
      },
      "execution_count": null,
      "outputs": [
        {
          "output_type": "stream",
          "name": "stdout",
          "text": [
            "5\n",
            "7\n",
            "0\n",
            "0.7142857142857143\n"
          ]
        }
      ]
    },
    {
      "cell_type": "markdown",
      "source": [
        "### Task 5: Loops\n"
      ],
      "metadata": {
        "id": "e_ciipykbtYE"
      }
    },
    {
      "cell_type": "markdown",
      "source": [
        "The list of non-negative integers that are less than 3 is [1,2,3] . \n",
        "\n",
        "Print the square of each number on a separate line."
      ],
      "metadata": {
        "id": "zYm_liK_grdH"
      }
    },
    {
      "cell_type": "code",
      "source": [
        "if __name__ == '__main__':\n",
        "    n = int(input())\n",
        "    \n",
        "    for i in range(n):\n",
        "        print(i**2)"
      ],
      "metadata": {
        "colab": {
          "base_uri": "https://localhost:8080/"
        },
        "id": "dXo9VY5LcKKg",
        "outputId": "f6733990-0694-4bc9-ce7c-ca99495586cd"
      },
      "execution_count": null,
      "outputs": [
        {
          "output_type": "stream",
          "name": "stdout",
          "text": [
            "4\n",
            "0\n",
            "1\n",
            "4\n",
            "9\n"
          ]
        }
      ]
    },
    {
      "cell_type": "markdown",
      "source": [
        "### Task 6: Function\n"
      ],
      "metadata": {
        "id": "1k0h9yDcdJyT"
      }
    },
    {
      "cell_type": "markdown",
      "source": [
        "\n",
        "An extra day is added to the calendar almost every four years as February 29, and the day is called a leap day. It corrects the calendar for the fact that our planet takes approximately 365.25 days to orbit the sun. A leap year contains a leap day.\n",
        "\n",
        "\n",
        "---\n",
        "\n",
        "\n",
        "\n",
        "In the Gregorian calendar, three conditions are used to identify leap years:\n",
        "\n",
        "The year can be evenly divided by 4, is a leap year, unless:\n",
        "\n",
        "The year can be evenly divided by 100, it is NOT a leap year, unless:\n",
        "\n",
        "The year is also evenly divisible by 400. Then it is a leap year.\n",
        "\n",
        "This means that in the Gregorian calendar, the years 2000 and 2400 are leap years, while 1800, 1900, 2100, 2200, 2300 and 2500 are NOT leap years\n",
        "\n",
        "---\n",
        "Given a year, determine whether it is a leap year. If it is a leap year, return the Boolean True, otherwise return False.\n",
        "\n",
        "Note that the code stub provided reads from STDIN and passes arguments to the is_leap function. It is only necessary to complete the is_leap function."
      ],
      "metadata": {
        "id": "pTkyqZvfgvLL"
      }
    },
    {
      "cell_type": "code",
      "source": [
        "def is_leap(year):\n",
        "    leap = False\n",
        "    \n",
        "    # Write your logic here\n",
        "    if (year%4 == 0) and ((year%100 != 0) or (year%400 == 0)):\n",
        "        leap = True\n",
        "    else: leap = False\n",
        "    \n",
        "    return leap"
      ],
      "metadata": {
        "id": "_oIEu0p9dxpz"
      },
      "execution_count": null,
      "outputs": []
    },
    {
      "cell_type": "markdown",
      "source": [
        "### Task 7: Print Function\n"
      ],
      "metadata": {
        "id": "FkRwAhOad9Ef"
      }
    },
    {
      "cell_type": "markdown",
      "source": [
        "\n",
        "The included code stub will read an integer, n, from STDIN.\n",
        "\n",
        "Without using any string methods, try to print the following:\n",
        "123...n\n",
        "\n",
        "Note that \"...\" represents the consecutive values in between.\n",
        "\n",
        "Example\n",
        "\n",
        "n = 5\n",
        "Print the string 12345.\n",
        "\n",
        "Input Format\n",
        "\n",
        "The first line contains an integer n ."
      ],
      "metadata": {
        "id": "ZjrCB1SGg2iR"
      }
    },
    {
      "cell_type": "code",
      "source": [
        "if __name__ == '__main__':\n",
        "    n = int(input())\n",
        "    for i in range(n):\n",
        "        print(i+1, end = \"\")"
      ],
      "metadata": {
        "colab": {
          "base_uri": "https://localhost:8080/"
        },
        "id": "8BXUccLueyWs",
        "outputId": "066cac46-4b8d-439e-9ccb-cc7f69b43686"
      },
      "execution_count": null,
      "outputs": [
        {
          "output_type": "stream",
          "name": "stdout",
          "text": [
            "5\n",
            "12345"
          ]
        }
      ]
    }
  ]
}